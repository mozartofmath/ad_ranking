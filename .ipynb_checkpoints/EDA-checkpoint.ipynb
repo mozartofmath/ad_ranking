{
 "cells": [
  {
   "cell_type": "code",
   "execution_count": 2,
   "id": "b8dc0353",
   "metadata": {},
   "outputs": [],
   "source": [
    "import pandas as pd\n",
    "import numpy as np"
   ]
  },
  {
   "cell_type": "code",
   "execution_count": null,
   "id": "7d5db025",
   "metadata": {},
   "outputs": [],
   "source": []
  },
  {
   "cell_type": "markdown",
   "id": "7c27e1f6",
   "metadata": {},
   "source": [
    "## Task 1"
   ]
  },
  {
   "cell_type": "code",
   "execution_count": 45,
   "id": "bb38f01e",
   "metadata": {},
   "outputs": [
    {
     "data": {
      "text/html": [
       "<div>\n",
       "<style scoped>\n",
       "    .dataframe tbody tr th:only-of-type {\n",
       "        vertical-align: middle;\n",
       "    }\n",
       "\n",
       "    .dataframe tbody tr th {\n",
       "        vertical-align: top;\n",
       "    }\n",
       "\n",
       "    .dataframe thead th {\n",
       "        text-align: right;\n",
       "    }\n",
       "</style>\n",
       "<table border=\"1\" class=\"dataframe\">\n",
       "  <thead>\n",
       "    <tr style=\"text-align: right;\">\n",
       "      <th></th>\n",
       "      <th>Unnamed: 0</th>\n",
       "      <th>LogEntryTime</th>\n",
       "      <th>AdvertiserId</th>\n",
       "      <th>CampaignId</th>\n",
       "      <th>AdGroupId</th>\n",
       "      <th>AudienceID</th>\n",
       "      <th>CreativeId</th>\n",
       "      <th>AdFormat</th>\n",
       "      <th>Frequency</th>\n",
       "      <th>Site</th>\n",
       "      <th>...</th>\n",
       "      <th>DeviceType</th>\n",
       "      <th>OSFamily</th>\n",
       "      <th>OS</th>\n",
       "      <th>Browser</th>\n",
       "      <th>DeviceMake</th>\n",
       "      <th>AdvertiserCurrency</th>\n",
       "      <th>click</th>\n",
       "      <th>engagement</th>\n",
       "      <th>video-end</th>\n",
       "      <th>video-start</th>\n",
       "    </tr>\n",
       "  </thead>\n",
       "  <tbody>\n",
       "    <tr>\n",
       "      <th>0</th>\n",
       "      <td>00006a06-14e2-47d9-b999-fbeeac67dd2b</td>\n",
       "      <td>2021-09-25 00:22:37</td>\n",
       "      <td>868ko1s</td>\n",
       "      <td>t29si1w</td>\n",
       "      <td>e9qf2dm</td>\n",
       "      <td>0</td>\n",
       "      <td>9wkrkl5j</td>\n",
       "      <td>300x250</td>\n",
       "      <td>0</td>\n",
       "      <td>scrabblewordfinder.org</td>\n",
       "      <td>...</td>\n",
       "      <td>4</td>\n",
       "      <td>5.0</td>\n",
       "      <td>173.0</td>\n",
       "      <td>7.0</td>\n",
       "      <td>Apple</td>\n",
       "      <td>0.006409</td>\n",
       "      <td>0</td>\n",
       "      <td>0</td>\n",
       "      <td>0</td>\n",
       "      <td>0</td>\n",
       "    </tr>\n",
       "    <tr>\n",
       "      <th>1</th>\n",
       "      <td>00007898-29c9-43f1-82e5-43c5a856d0f4</td>\n",
       "      <td>2021-09-25 02:31:35</td>\n",
       "      <td>868ko1s</td>\n",
       "      <td>fiwemi8</td>\n",
       "      <td>8m750eh</td>\n",
       "      <td>0</td>\n",
       "      <td>zhre4utp</td>\n",
       "      <td>300x250</td>\n",
       "      <td>0</td>\n",
       "      <td>www.thecoli.com</td>\n",
       "      <td>...</td>\n",
       "      <td>4</td>\n",
       "      <td>5.0</td>\n",
       "      <td>173.0</td>\n",
       "      <td>7.0</td>\n",
       "      <td>Apple</td>\n",
       "      <td>0.002778</td>\n",
       "      <td>0</td>\n",
       "      <td>0</td>\n",
       "      <td>0</td>\n",
       "      <td>0</td>\n",
       "    </tr>\n",
       "    <tr>\n",
       "      <th>2</th>\n",
       "      <td>0000d06f-5239-4123-af41-bd1c0e0e8d48</td>\n",
       "      <td>2021-09-25 20:12:52</td>\n",
       "      <td>868ko1s</td>\n",
       "      <td>awbu4q4</td>\n",
       "      <td>oropida</td>\n",
       "      <td>lnqjhqm</td>\n",
       "      <td>ab6spdyi</td>\n",
       "      <td>300x250</td>\n",
       "      <td>0</td>\n",
       "      <td>www.today.com</td>\n",
       "      <td>...</td>\n",
       "      <td>4</td>\n",
       "      <td>6.0</td>\n",
       "      <td>156.0</td>\n",
       "      <td>6.0</td>\n",
       "      <td>Samsung</td>\n",
       "      <td>0.008947</td>\n",
       "      <td>0</td>\n",
       "      <td>0</td>\n",
       "      <td>0</td>\n",
       "      <td>0</td>\n",
       "    </tr>\n",
       "    <tr>\n",
       "      <th>3</th>\n",
       "      <td>0000d623-aaf1-4be8-81f7-eb6c96b30aee</td>\n",
       "      <td>2021-09-22 16:04:12</td>\n",
       "      <td>868ko1s</td>\n",
       "      <td>t29si1w</td>\n",
       "      <td>e9qf2dm</td>\n",
       "      <td>0</td>\n",
       "      <td>2spj6krt</td>\n",
       "      <td>300x250</td>\n",
       "      <td>0</td>\n",
       "      <td>www.cbssports.com</td>\n",
       "      <td>...</td>\n",
       "      <td>4</td>\n",
       "      <td>5.0</td>\n",
       "      <td>101.0</td>\n",
       "      <td>7.0</td>\n",
       "      <td>Apple</td>\n",
       "      <td>0.007673</td>\n",
       "      <td>0</td>\n",
       "      <td>0</td>\n",
       "      <td>0</td>\n",
       "      <td>0</td>\n",
       "    </tr>\n",
       "    <tr>\n",
       "      <th>4</th>\n",
       "      <td>0000e836-9778-4ea9-b686-9e7bf26f90bd</td>\n",
       "      <td>2021-09-22 14:33:59</td>\n",
       "      <td>868ko1s</td>\n",
       "      <td>awbu4q4</td>\n",
       "      <td>oropida</td>\n",
       "      <td>lnqjhqm</td>\n",
       "      <td>ql1q5nq9</td>\n",
       "      <td>300x250</td>\n",
       "      <td>0</td>\n",
       "      <td>backroadramblers.com</td>\n",
       "      <td>...</td>\n",
       "      <td>4</td>\n",
       "      <td>5.0</td>\n",
       "      <td>101.0</td>\n",
       "      <td>7.0</td>\n",
       "      <td>Apple</td>\n",
       "      <td>0.008852</td>\n",
       "      <td>0</td>\n",
       "      <td>1</td>\n",
       "      <td>1</td>\n",
       "      <td>1</td>\n",
       "    </tr>\n",
       "  </tbody>\n",
       "</table>\n",
       "<p>5 rows × 24 columns</p>\n",
       "</div>"
      ],
      "text/plain": [
       "                             Unnamed: 0         LogEntryTime AdvertiserId  \\\n",
       "0  00006a06-14e2-47d9-b999-fbeeac67dd2b  2021-09-25 00:22:37      868ko1s   \n",
       "1  00007898-29c9-43f1-82e5-43c5a856d0f4  2021-09-25 02:31:35      868ko1s   \n",
       "2  0000d06f-5239-4123-af41-bd1c0e0e8d48  2021-09-25 20:12:52      868ko1s   \n",
       "3  0000d623-aaf1-4be8-81f7-eb6c96b30aee  2021-09-22 16:04:12      868ko1s   \n",
       "4  0000e836-9778-4ea9-b686-9e7bf26f90bd  2021-09-22 14:33:59      868ko1s   \n",
       "\n",
       "  CampaignId AdGroupId AudienceID CreativeId AdFormat  Frequency  \\\n",
       "0    t29si1w   e9qf2dm          0   9wkrkl5j  300x250          0   \n",
       "1    fiwemi8   8m750eh          0   zhre4utp  300x250          0   \n",
       "2    awbu4q4   oropida    lnqjhqm   ab6spdyi  300x250          0   \n",
       "3    t29si1w   e9qf2dm          0   2spj6krt  300x250          0   \n",
       "4    awbu4q4   oropida    lnqjhqm   ql1q5nq9  300x250          0   \n",
       "\n",
       "                     Site  ...  DeviceType OSFamily     OS Browser  \\\n",
       "0  scrabblewordfinder.org  ...           4      5.0  173.0     7.0   \n",
       "1         www.thecoli.com  ...           4      5.0  173.0     7.0   \n",
       "2           www.today.com  ...           4      6.0  156.0     6.0   \n",
       "3       www.cbssports.com  ...           4      5.0  101.0     7.0   \n",
       "4    backroadramblers.com  ...           4      5.0  101.0     7.0   \n",
       "\n",
       "   DeviceMake  AdvertiserCurrency  click  engagement video-end  video-start  \n",
       "0       Apple            0.006409      0           0         0            0  \n",
       "1       Apple            0.002778      0           0         0            0  \n",
       "2     Samsung            0.008947      0           0         0            0  \n",
       "3       Apple            0.007673      0           0         0            0  \n",
       "4       Apple            0.008852      0           1         1            1  \n",
       "\n",
       "[5 rows x 24 columns]"
      ]
     },
     "execution_count": 45,
     "metadata": {},
     "output_type": "execute_result"
    }
   ],
   "source": [
    "data = pd.read_csv('impression_log.csv')\n",
    "data.head()"
   ]
  },
  {
   "cell_type": "code",
   "execution_count": 48,
   "id": "88568193",
   "metadata": {},
   "outputs": [
    {
     "data": {
      "text/html": [
       "<div>\n",
       "<style scoped>\n",
       "    .dataframe tbody tr th:only-of-type {\n",
       "        vertical-align: middle;\n",
       "    }\n",
       "\n",
       "    .dataframe tbody tr th {\n",
       "        vertical-align: top;\n",
       "    }\n",
       "\n",
       "    .dataframe thead th {\n",
       "        text-align: right;\n",
       "    }\n",
       "</style>\n",
       "<table border=\"1\" class=\"dataframe\">\n",
       "  <thead>\n",
       "    <tr style=\"text-align: right;\">\n",
       "      <th></th>\n",
       "      <th>click</th>\n",
       "    </tr>\n",
       "    <tr>\n",
       "      <th>engagement</th>\n",
       "      <th></th>\n",
       "    </tr>\n",
       "  </thead>\n",
       "  <tbody>\n",
       "    <tr>\n",
       "      <th>0</th>\n",
       "      <td>87082</td>\n",
       "    </tr>\n",
       "    <tr>\n",
       "      <th>1</th>\n",
       "      <td>12918</td>\n",
       "    </tr>\n",
       "  </tbody>\n",
       "</table>\n",
       "</div>"
      ],
      "text/plain": [
       "            click\n",
       "engagement       \n",
       "0           87082\n",
       "1           12918"
      ]
     },
     "execution_count": 48,
     "metadata": {},
     "output_type": "execute_result"
    }
   ],
   "source": [
    "data[['engagement', 'click']].groupby('engagement').count()"
   ]
  },
  {
   "cell_type": "code",
   "execution_count": 4,
   "id": "c185ec93",
   "metadata": {},
   "outputs": [
    {
     "data": {
      "text/html": [
       "<div>\n",
       "<style scoped>\n",
       "    .dataframe tbody tr th:only-of-type {\n",
       "        vertical-align: middle;\n",
       "    }\n",
       "\n",
       "    .dataframe tbody tr th {\n",
       "        vertical-align: top;\n",
       "    }\n",
       "\n",
       "    .dataframe thead th {\n",
       "        text-align: right;\n",
       "    }\n",
       "</style>\n",
       "<table border=\"1\" class=\"dataframe\">\n",
       "  <thead>\n",
       "    <tr style=\"text-align: right;\">\n",
       "      <th></th>\n",
       "      <th>engagement_rate</th>\n",
       "      <th>click_through_rate</th>\n",
       "    </tr>\n",
       "  </thead>\n",
       "  <tbody>\n",
       "    <tr>\n",
       "      <th>count</th>\n",
       "      <td>8538.000000</td>\n",
       "      <td>2757.000000</td>\n",
       "    </tr>\n",
       "    <tr>\n",
       "      <th>mean</th>\n",
       "      <td>0.104691</td>\n",
       "      <td>inf</td>\n",
       "    </tr>\n",
       "    <tr>\n",
       "      <th>std</th>\n",
       "      <td>0.221900</td>\n",
       "      <td>NaN</td>\n",
       "    </tr>\n",
       "    <tr>\n",
       "      <th>min</th>\n",
       "      <td>0.000000</td>\n",
       "      <td>0.000000</td>\n",
       "    </tr>\n",
       "    <tr>\n",
       "      <th>25%</th>\n",
       "      <td>0.000000</td>\n",
       "      <td>0.000000</td>\n",
       "    </tr>\n",
       "    <tr>\n",
       "      <th>50%</th>\n",
       "      <td>0.000000</td>\n",
       "      <td>0.166667</td>\n",
       "    </tr>\n",
       "    <tr>\n",
       "      <th>75%</th>\n",
       "      <td>0.117647</td>\n",
       "      <td>0.666667</td>\n",
       "    </tr>\n",
       "    <tr>\n",
       "      <th>max</th>\n",
       "      <td>1.000000</td>\n",
       "      <td>inf</td>\n",
       "    </tr>\n",
       "  </tbody>\n",
       "</table>\n",
       "</div>"
      ],
      "text/plain": [
       "       engagement_rate  click_through_rate\n",
       "count      8538.000000         2757.000000\n",
       "mean          0.104691                 inf\n",
       "std           0.221900                 NaN\n",
       "min           0.000000            0.000000\n",
       "25%           0.000000            0.000000\n",
       "50%           0.000000            0.166667\n",
       "75%           0.117647            0.666667\n",
       "max           1.000000                 inf"
      ]
     },
     "execution_count": 4,
     "metadata": {},
     "output_type": "execute_result"
    }
   ],
   "source": [
    "eng = data[['Site', 'click', 'engagement']].groupby('Site').agg(['sum','count']).reset_index()\n",
    "new_df = pd.DataFrame({\n",
    "    'Site': eng['Site'], \n",
    "    'engagement_rate': eng['engagement']['sum']/eng['engagement']['count'],\n",
    "    'click_through_rate': eng['click']['sum']/eng['engagement']['sum']\n",
    "    })\n",
    "new_df.describe()"
   ]
  },
  {
   "cell_type": "code",
   "execution_count": 5,
   "id": "7fc41fc8",
   "metadata": {},
   "outputs": [],
   "source": [
    "def score_sites(df, campaign_id):\n",
    "    new_df = df[df['CampaignId'] == campaign_id]\n",
    "    eng = df[['Site', 'click', 'engagement']].groupby('Site').agg(['sum','count']).reset_index()\n",
    "    scores = pd.DataFrame({\n",
    "        'Site': eng['Site'], \n",
    "        'engagement_rate': eng['engagement']['sum']/eng['engagement']['count'],\n",
    "        'click_through_rate': eng['click']['sum']/eng['engagement']['sum']\n",
    "        })\n",
    "    return scores.sort_values('engagement_rate', ascending = False)\n"
   ]
  },
  {
   "cell_type": "code",
   "execution_count": 6,
   "id": "d08e2bab",
   "metadata": {},
   "outputs": [],
   "source": [
    "scored = score_sites(data, 't29si1w')"
   ]
  },
  {
   "cell_type": "code",
   "execution_count": 7,
   "id": "b4192ea8",
   "metadata": {},
   "outputs": [
    {
     "data": {
      "text/html": [
       "<div>\n",
       "<style scoped>\n",
       "    .dataframe tbody tr th:only-of-type {\n",
       "        vertical-align: middle;\n",
       "    }\n",
       "\n",
       "    .dataframe tbody tr th {\n",
       "        vertical-align: top;\n",
       "    }\n",
       "\n",
       "    .dataframe thead th {\n",
       "        text-align: right;\n",
       "    }\n",
       "</style>\n",
       "<table border=\"1\" class=\"dataframe\">\n",
       "  <thead>\n",
       "    <tr style=\"text-align: right;\">\n",
       "      <th></th>\n",
       "      <th>Site</th>\n",
       "      <th>engagement_rate</th>\n",
       "      <th>click_through_rate</th>\n",
       "    </tr>\n",
       "  </thead>\n",
       "  <tbody>\n",
       "    <tr>\n",
       "      <th>3235</th>\n",
       "      <td>richmond.com</td>\n",
       "      <td>1.0</td>\n",
       "      <td>0.000000</td>\n",
       "    </tr>\n",
       "    <tr>\n",
       "      <th>3013</th>\n",
       "      <td>plantforsuccess.com</td>\n",
       "      <td>1.0</td>\n",
       "      <td>0.000000</td>\n",
       "    </tr>\n",
       "    <tr>\n",
       "      <th>5274</th>\n",
       "      <td>www.dallasnews.com</td>\n",
       "      <td>1.0</td>\n",
       "      <td>1.000000</td>\n",
       "    </tr>\n",
       "    <tr>\n",
       "      <th>6401</th>\n",
       "      <td>www.littlehouseoffour.com</td>\n",
       "      <td>1.0</td>\n",
       "      <td>0.000000</td>\n",
       "    </tr>\n",
       "    <tr>\n",
       "      <th>1330</th>\n",
       "      <td>flowracers.com</td>\n",
       "      <td>1.0</td>\n",
       "      <td>0.333333</td>\n",
       "    </tr>\n",
       "    <tr>\n",
       "      <th>3579</th>\n",
       "      <td>stackyourdollars.com</td>\n",
       "      <td>1.0</td>\n",
       "      <td>0.000000</td>\n",
       "    </tr>\n",
       "    <tr>\n",
       "      <th>3009</th>\n",
       "      <td>plantbasedfolk.com</td>\n",
       "      <td>1.0</td>\n",
       "      <td>0.000000</td>\n",
       "    </tr>\n",
       "    <tr>\n",
       "      <th>1903</th>\n",
       "      <td>imperfectfamilies.com</td>\n",
       "      <td>1.0</td>\n",
       "      <td>1.000000</td>\n",
       "    </tr>\n",
       "    <tr>\n",
       "      <th>7191</th>\n",
       "      <td>www.quikr.com</td>\n",
       "      <td>1.0</td>\n",
       "      <td>0.000000</td>\n",
       "    </tr>\n",
       "    <tr>\n",
       "      <th>1906</th>\n",
       "      <td>indianajo.com</td>\n",
       "      <td>1.0</td>\n",
       "      <td>1.000000</td>\n",
       "    </tr>\n",
       "  </tbody>\n",
       "</table>\n",
       "</div>"
      ],
      "text/plain": [
       "                           Site  engagement_rate  click_through_rate\n",
       "3235               richmond.com              1.0            0.000000\n",
       "3013        plantforsuccess.com              1.0            0.000000\n",
       "5274         www.dallasnews.com              1.0            1.000000\n",
       "6401  www.littlehouseoffour.com              1.0            0.000000\n",
       "1330             flowracers.com              1.0            0.333333\n",
       "3579       stackyourdollars.com              1.0            0.000000\n",
       "3009         plantbasedfolk.com              1.0            0.000000\n",
       "1903      imperfectfamilies.com              1.0            1.000000\n",
       "7191              www.quikr.com              1.0            0.000000\n",
       "1906              indianajo.com              1.0            1.000000"
      ]
     },
     "execution_count": 7,
     "metadata": {},
     "output_type": "execute_result"
    }
   ],
   "source": [
    "scored.head(10)"
   ]
  },
  {
   "cell_type": "markdown",
   "id": "e8da7349",
   "metadata": {},
   "source": [
    "## Task 3"
   ]
  },
  {
   "cell_type": "code",
   "execution_count": 44,
   "id": "a728dc42",
   "metadata": {},
   "outputs": [],
   "source": [
    "importance = data[['AdFormat', 'FoldPosition', 'OS', 'DeviceType', 'engagement']]\n",
    "# Balance the number of rows with engagement = 0 and and engagement = 1\n",
    "importance = pd.concat([importance[importance['engagement'] == 1], importance[importance['engagement'] == 0].sample(15000)])\n"
   ]
  },
  {
   "cell_type": "code",
   "execution_count": null,
   "id": "4596b6ba",
   "metadata": {},
   "outputs": [],
   "source": [
    "from sklearn import preprocessing\n",
    "# use labelencoder to encode the 'AdFormat' and 'OS' columns\n",
    "le = preprocessing.LabelEncoder()\n",
    "importance['AdFormat'] = le.fit_transform(importance['AdFormat'])\n",
    "importance['OS'] = le.fit_transform(importance['OS'])"
   ]
  },
  {
   "cell_type": "code",
   "execution_count": null,
   "id": "8fad0caf",
   "metadata": {},
   "outputs": [],
   "source": [
    "# Logistic Regression\n",
    "from sklearn.linear_model import LogisticRegression\n",
    "X, y = importance[['AdFormat', 'FoldPosition', 'OS', 'DeviceType']], importance['engagement']\n",
    "clf = LogisticRegression(random_state=0).fit(X, y)"
   ]
  },
  {
   "cell_type": "code",
   "execution_count": 33,
   "id": "09e14664",
   "metadata": {},
   "outputs": [
    {
     "data": {
      "text/plain": [
       "0.590515079876782"
      ]
     },
     "execution_count": 33,
     "metadata": {},
     "output_type": "execute_result"
    }
   ],
   "source": [
    "clf.score(X,y)"
   ]
  },
  {
   "cell_type": "markdown",
   "id": "fc0e0958",
   "metadata": {},
   "source": [
    "### Feature Importance"
   ]
  },
  {
   "cell_type": "code",
   "execution_count": 38,
   "id": "a532a2d3",
   "metadata": {
    "scrolled": true
   },
   "outputs": [
    {
     "data": {
      "text/plain": [
       "<AxesSubplot:>"
      ]
     },
     "execution_count": 38,
     "metadata": {},
     "output_type": "execute_result"
    },
    {
     "data": {
      "image/png": "[encoded data removed]",
      "text/plain": [
       "<Figure size 864x504 with 1 Axes>"
      ]
     },
     "metadata": {
      "needs_background": "light"
     },
     "output_type": "display_data"
    }
   ],
   "source": [
    "import matplotlib.pyplot as plt\n",
    "import seaborn as sns\n",
    "plt.figure(figsize=(12,7))\n",
    "sns.barplot(x = importance.drop(['engagement'], axis = 1).columns, y = clf.coef_[0])"
   ]
  },
  {
   "cell_type": "markdown",
   "id": "a889a8ca",
   "metadata": {},
   "source": [
    "### Causal Modeling"
   ]
  },
  {
   "cell_type": "code",
   "execution_count": 39,
   "id": "60341a5d",
   "metadata": {},
   "outputs": [],
   "source": [
    "from causalnex.structure.notears import from_pandas\n",
    "from IPython.display import Image\n",
    "from causalnex.plots import plot_structure, NODE_STYLE, EDGE_STYLE"
   ]
  },
  {
   "cell_type": "code",
   "execution_count": 42,
   "id": "dbbfefc1",
   "metadata": {},
   "outputs": [],
   "source": [
    "sm = from_pandas(importance, w_threshold = 0.5, max_iter=20)"
   ]
  },
  {
   "cell_type": "code",
   "execution_count": 43,
   "id": "32bc2913",
   "metadata": {},
   "outputs": [
    {
     "data": {
      "image/png": "[encoded data removed]",
      "text/plain": [
       "<IPython.core.display.Image object>"
      ]
     },
     "execution_count": 43,
     "metadata": {},
     "output_type": "execute_result"
    }
   ],
   "source": [
    "viz = plot_structure(\n",
    "    sm,\n",
    "    graph_attributes={\"scale\": \"0.5\"},\n",
    "    all_node_attributes=NODE_STYLE.WEAK,\n",
    "    all_edge_attributes=EDGE_STYLE.WEAK)\n",
    "Image(viz.draw(format='png'))"
   ]
  },
  {
   "cell_type": "code",
   "execution_count": null,
   "id": "9c0dd00e",
   "metadata": {},
   "outputs": [],
   "source": []
  }
 ],
 "metadata": {
  "kernelspec": {
   "display_name": "Python 3 (ipykernel)",
   "language": "python",
   "name": "python3"
  },
  "language_info": {
   "codemirror_mode": {
    "name": "ipython",
    "version": 3
   },
   "file_extension": ".py",
   "mimetype": "text/x-python",
   "name": "python",
   "nbconvert_exporter": "python",
   "pygments_lexer": "ipython3",
   "version": "3.8.11"
  }
 },
 "nbformat": 4,
 "nbformat_minor": 5
}
